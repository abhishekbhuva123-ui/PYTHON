{
 "cells": [
  {
   "cell_type": "code",
   "execution_count": 26,
   "id": "06c04743-1222-4597-b734-a78352f52d42",
   "metadata": {},
   "outputs": [
    {
     "name": "stdout",
     "output_type": "stream",
     "text": [
      "<class 'float'>\n"
     ]
    }
   ],
   "source": [
    "print(type(3*5/5))"
   ]
  },
  {
   "cell_type": "code",
   "execution_count": 27,
   "id": "d45b869d-18b9-44b8-9b7f-c37f0159cd4d",
   "metadata": {},
   "outputs": [
    {
     "name": "stdout",
     "output_type": "stream",
     "text": [
      "1.0\n",
      "1\n",
      "1\n"
     ]
    }
   ],
   "source": [
    "print(True ** False / True)\n",
    "print(True ** False // True)\n",
    "print(True ** False * True)"
   ]
  },
  {
   "cell_type": "code",
   "execution_count": 28,
   "id": "d5f322e9-75e2-4f6d-99a7-4fd6d000dc4d",
   "metadata": {},
   "outputs": [
    {
     "name": "stdout",
     "output_type": "stream",
     "text": [
      "7\n",
      "True\n"
     ]
    }
   ],
   "source": [
    "print(int(6 == 6.0) * 3 + 4 % 5)\n",
    "print(6==6.0)"
   ]
  },
  {
   "cell_type": "code",
   "execution_count": 29,
   "id": "63e41349-dfbd-44c0-bf0c-930350973a0d",
   "metadata": {},
   "outputs": [
    {
     "name": "stdout",
     "output_type": "stream",
     "text": [
      "This is False\n",
      "False\n"
     ]
    }
   ],
   "source": [
    "new= (1 and \"True\") and ('False' or Train)\n",
    "str= 'This statement is '+ new\n",
    "print(\"This is False\" if \"False\" in new else \"This is True\")\n",
    "\n",
    "print('False' or Train)"
   ]
  },
  {
   "cell_type": "code",
   "execution_count": 30,
   "id": "399ba630-a778-46fd-9206-6e7735a67de7",
   "metadata": {},
   "outputs": [
    {
     "ename": "SyntaxError",
     "evalue": "invalid syntax (148546196.py, line 2)",
     "output_type": "error",
     "traceback": [
      "  \u001b[36mCell\u001b[39m\u001b[36m \u001b[39m\u001b[32mIn[30]\u001b[39m\u001b[32m, line 2\u001b[39m\n\u001b[31m    \u001b[39m\u001b[31mb=a-=2\u001b[39m\n       ^\n\u001b[31mSyntaxError\u001b[39m\u001b[31m:\u001b[39m invalid syntax\n"
     ]
    }
   ],
   "source": [
    "a=10\n",
    "b=a-=2\n",
    "print(b)"
   ]
  },
  {
   "cell_type": "code",
   "execution_count": 31,
   "id": "9c5ef8ce-e9ef-4c87-a50c-46d3f1c56439",
   "metadata": {},
   "outputs": [
    {
     "name": "stdout",
     "output_type": "stream",
     "text": [
      "True\n"
     ]
    }
   ],
   "source": [
    "a, b = 12, 5\n",
    "if a + b:\n",
    "   print('True')\n",
    "else:\n",
    "   print('False')"
   ]
  },
  {
   "cell_type": "code",
   "execution_count": 32,
   "id": "6c53cdb3-507e-4276-8c90-3a5d14d45aed",
   "metadata": {},
   "outputs": [
    {
     "name": "stdout",
     "output_type": "stream",
     "text": [
      "2\n"
     ]
    }
   ],
   "source": [
    "while None:\n",
    "    print(\"2\")\n",
    "print(2)    "
   ]
  },
  {
   "cell_type": "code",
   "execution_count": 33,
   "id": "77b93914-d0c6-4f8f-94ef-1f4409c997ff",
   "metadata": {},
   "outputs": [
    {
     "ename": "TypeError",
     "evalue": "'float' object cannot be interpreted as an integer",
     "output_type": "error",
     "traceback": [
      "\u001b[31m---------------------------------------------------------------------------\u001b[39m",
      "\u001b[31mTypeError\u001b[39m                                 Traceback (most recent call last)",
      "\u001b[36mCell\u001b[39m\u001b[36m \u001b[39m\u001b[32mIn[33]\u001b[39m\u001b[32m, line 1\u001b[39m\n\u001b[32m----> \u001b[39m\u001b[32m1\u001b[39m \u001b[38;5;28;01mfor\u001b[39;00m i \u001b[38;5;129;01min\u001b[39;00m \u001b[38;5;28;43mrange\u001b[39;49m\u001b[43m(\u001b[49m\u001b[38;5;28;43mfloat\u001b[39;49m\u001b[43m(\u001b[49m\u001b[33;43m'\u001b[39;49m\u001b[33;43minf\u001b[39;49m\u001b[33;43m'\u001b[39;49m\u001b[43m)\u001b[49m\u001b[43m)\u001b[49m:\n\u001b[32m      2\u001b[39m     \u001b[38;5;28mprint\u001b[39m (i)\n",
      "\u001b[31mTypeError\u001b[39m: 'float' object cannot be interpreted as an integer"
     ]
    }
   ],
   "source": [
    "for i in range(float('inf')):\n",
    "    print (i)"
   ]
  },
  {
   "cell_type": "code",
   "execution_count": 34,
   "id": "95e74e62-5623-43e3-9e20-ac4c4a073cbb",
   "metadata": {},
   "outputs": [
    {
     "name": "stdout",
     "output_type": "stream",
     "text": [
      "yes\n"
     ]
    }
   ],
   "source": [
    "a = 5\n",
    "b = 5.0\n",
    "print('yes') if (a == b) else 'no'"
   ]
  },
  {
   "cell_type": "code",
   "execution_count": 35,
   "id": "1428ed78-52bd-470d-9ce8-24195053c8a6",
   "metadata": {},
   "outputs": [
    {
     "ename": "IndentationError",
     "evalue": "expected an indented block after 'else' statement on line 5 (2284501243.py, line 6)",
     "output_type": "error",
     "traceback": [
      "  \u001b[36mCell\u001b[39m\u001b[36m \u001b[39m\u001b[32mIn[35]\u001b[39m\u001b[32m, line 6\u001b[39m\n\u001b[31m    \u001b[39m\u001b[31mprint(\"bad\")\u001b[39m\n    ^\n\u001b[31mIndentationError\u001b[39m\u001b[31m:\u001b[39m expected an indented block after 'else' statement on line 5\n"
     ]
    }
   ],
   "source": [
    "if (9 < 0) and (0 < -9):\n",
    "    print(\"hello\")\n",
    "elif (9 > 0) or False:\n",
    "    print(\"good\")\n",
    "else:\n",
    "print(\"bad\")"
   ]
  },
  {
   "cell_type": "code",
   "execution_count": 36,
   "id": "a1830199-8611-48a3-82b2-106cdd1f82e7",
   "metadata": {},
   "outputs": [
    {
     "name": "stdout",
     "output_type": "stream",
     "text": [
      "a is 3 and b is 7 and c is 10\n",
      "a is 25 and b is 5 and c is 24\n",
      "a is 100 and b is 5 and c is 50\n"
     ]
    }
   ],
   "source": [
    "def func(a, b=5, c=10):\n",
    "    print('a is', a, 'and b is', b, 'and c is', c)\n",
    "func(3, 7)\n",
    "func(25, c = 24)\n",
    "func(c = 50, a = 100)"
   ]
  },
  {
   "cell_type": "code",
   "execution_count": 37,
   "id": "f7209ebe-610a-4872-82aa-8212e81dd926",
   "metadata": {},
   "outputs": [
    {
     "name": "stdout",
     "output_type": "stream",
     "text": [
      "fib of 0 = 1\n",
      "fib called 1 times.\n",
      "fib of 1 = 1\n",
      "fib called 1 times.\n",
      "fib of 2 = 2\n",
      "fib called 3 times.\n",
      "fib of 3 = 3\n",
      "fib called 5 times.\n",
      "fib of 4 = 5\n",
      "fib called 9 times.\n",
      "fib of 5 = 8\n",
      "fib called 15 times.\n",
      "fib of 6 = 13\n",
      "fib called 25 times.\n"
     ]
    }
   ],
   "source": [
    "def fib(x):\n",
    "  global num_fib_calls\n",
    "  num_fib_calls += 1\n",
    "  if x == 0 or x == 1:\n",
    "    return 1\n",
    "  else:\n",
    "    return fib(x-1) + fib(x-2)\n",
    "def test_fib(n):\n",
    " for i in range(n+1):\n",
    "   global num_fib_calls\n",
    "   num_fib_calls = 0\n",
    "   print('fib of', i, '=', fib(i))\n",
    "   print('fib called', num_fib_calls, 'times.')\n",
    "test_fib(6)   "
   ]
  },
  {
   "cell_type": "code",
   "execution_count": 38,
   "id": "f2de59b1",
   "metadata": {},
   "outputs": [
    {
     "ename": "SyntaxError",
     "evalue": "parameter without a default follows parameter with a default (3927224225.py, line 1)",
     "output_type": "error",
     "traceback": [
      "  \u001b[36mCell\u001b[39m\u001b[36m \u001b[39m\u001b[32mIn[38]\u001b[39m\u001b[32m, line 1\u001b[39m\n\u001b[31m    \u001b[39m\u001b[31mdef fun(a=5,b=10,c):\u001b[39m\n                     ^\n\u001b[31mSyntaxError\u001b[39m\u001b[31m:\u001b[39m parameter without a default follows parameter with a default\n"
     ]
    }
   ],
   "source": [
    "def fun(a=5,b=10,c):\n",
    "    print(a**2,b//a,c**1)\n",
    "fun(20,c=30)"
   ]
  },
  {
   "cell_type": "code",
   "execution_count": 39,
   "id": "6d3bb490",
   "metadata": {},
   "outputs": [
    {
     "name": "stdout",
     "output_type": "stream",
     "text": [
      "4 None\n"
     ]
    }
   ],
   "source": [
    "def f():\n",
    "    print(x,end=\" \")\n",
    "    return y\n",
    "def f():\n",
    "    print(y,end=\" \")\n",
    "    return \n",
    "x=5\n",
    "y=4\n",
    "print(f())"
   ]
  },
  {
   "cell_type": "code",
   "execution_count": 40,
   "id": "20f3fe8a",
   "metadata": {},
   "outputs": [
    {
     "name": "stdout",
     "output_type": "stream",
     "text": [
      "4  is leap year\n"
     ]
    }
   ],
   "source": [
    "a=int(input(\"Enter year:\"))\n",
    "if (a%4==0 and a%100!=0) or (a%400==0):\n",
    "    print(a,\" is leap year\")\n",
    "else:\n",
    "       print(a,\" is not leap year\") "
   ]
  },
  {
   "cell_type": "code",
   "execution_count": 41,
   "id": "385413c6",
   "metadata": {},
   "outputs": [
    {
     "name": "stdout",
     "output_type": "stream",
     "text": [
      "2\n"
     ]
    }
   ],
   "source": [
    "#Write a program to check if a number is prime or not.\n",
    "n=int(input(\"Enter number:-\"))\n",
    "count=0\n",
    "for i in range(2,n):\n",
    "    if n%i==0:\n",
    "        count+=1\n",
    "print(count)\n",
    "    "
   ]
  },
  {
   "cell_type": "code",
   "execution_count": 42,
   "id": "b807a63d",
   "metadata": {},
   "outputs": [
    {
     "name": "stdout",
     "output_type": "stream",
     "text": [
      "0\n",
      "first= 9\n",
      "9\n",
      "swap= 9\n"
     ]
    }
   ],
   "source": [
    "n=int(input(\"Enter name:-\"))\n",
    "last=n%10\n",
    "count=0\n",
    "temp=n\n",
    "while(temp>=10):\n",
    "    temp//=10\n",
    "    count+=1\n",
    "print(count)\n",
    "first=n//10**count\n",
    "print(\"first=\",first)\n",
    "print(last)\n",
    "print(\"swap=\",last*10**count+(n-first*10**count)-last+first)\n",
    "  "
   ]
  }
 ],
 "metadata": {
  "kernelspec": {
   "display_name": "Python 3",
   "language": "python",
   "name": "python3"
  },
  "language_info": {
   "codemirror_mode": {
    "name": "ipython",
    "version": 3
   },
   "file_extension": ".py",
   "mimetype": "text/x-python",
   "name": "python",
   "nbconvert_exporter": "python",
   "pygments_lexer": "ipython3",
   "version": "3.14.0"
  }
 },
 "nbformat": 4,
 "nbformat_minor": 5
}
