{
 "cells": [
  {
   "cell_type": "code",
   "execution_count": 28,
   "id": "617eef76",
   "metadata": {},
   "outputs": [
    {
     "name": "stdout",
     "output_type": "stream",
     "text": [
      "Krushn\n",
      "Hello\n",
      "      Rama\n",
      "Hello\n",
      "      Sita\n",
      "<class 'str'>\n",
      "<class 'str'>\n",
      "hello\n",
      "      world\n",
      "1000.0\n"
     ]
    }
   ],
   "source": [
    "#Data types in Python\n",
    "#Text Type: str\n",
    "s1='Hari'\n",
    "s1=\"Kru\" \\\n",
    "'shn'\n",
    "print(s1)\n",
    "\n",
    "'''muliline comment or multiline string literal'''\n",
    "s2='''Hello\n",
    "      Rama'''\n",
    "print(s2)\n",
    "\n",
    "\"\"\"muliline comment or multiline string liter\"\"\"\n",
    "s3=\"\"\"Hello\n",
    "      Sita\"\"\"\n",
    "print(s3)\n",
    "print(type(s1))\n",
    "print(type(s2))\n",
    "print(\"\"\"hello\n",
    "      world\"\"\")\n",
    "\n",
    "print(10e2)"
   ]
  },
  {
   "cell_type": "code",
   "execution_count": 29,
   "id": "c2b44bc4",
   "metadata": {},
   "outputs": [
    {
     "name": "stdout",
     "output_type": "stream",
     "text": [
      "('apple', 30, False)\n",
      "{10: 'bhuva'} {10: 'abhi', 11: 'abhi'} {'a': 10, 'b': 20}\n",
      "bhuva\n",
      "20\n",
      "{False, 'orange', 'apple', 35, 45.0}\n",
      "{False, 'orange', 'apple', 35, 12, 45.0}\n",
      "frozenset({True, 34, 'apple'})\n",
      "False\n",
      "False\n"
     ]
    }
   ],
   "source": [
    "tuple=(\"apple\",25,False)\n",
    "tuple=(\"apple\",30,False)\n",
    "print(tuple)\n",
    "\n",
    "d={10:\"abhi\",10:\"bhuva\"}\n",
    "b={10:\"abhi\",11:\"abhi\"} #key are not same\n",
    "c={'a':10,'b':20}\n",
    "print(d,b,c)\n",
    "print(d[10])\n",
    "print(c[\"b\"])\n",
    "\n",
    "# Set\n",
    "set={\"apple\",35,False,\"orange\",45.0}\n",
    "print(set)\n",
    "set.add(12)\n",
    "print(set)\n",
    "\n",
    "l=[\"apple\",34,True]\n",
    "y=frozenset(l)\n",
    "print(y)\n",
    "\n",
    "print(bool(0))\n",
    "print(bool(\"\"))"
   ]
  },
  {
   "cell_type": "code",
   "execution_count": null,
   "id": "7da88167",
   "metadata": {},
   "outputs": [
    {
     "name": "stdout",
     "output_type": "stream",
     "text": [
      "123\n",
      "1\n",
      "-------float-------\n",
      "10.0\n",
      "10.4\n",
      "------complex-------\n",
      "(10+2j)\n",
      "0j\n",
      "(1+0j)\n",
      "3j\n",
      "(1+0j)\n",
      "0j\n",
      "False\n",
      "--------variable-------\n",
      "PythonI\n"
     ]
    }
   ],
   "source": [
    "#Type Casting\n",
    "print(int(123.97))\n",
    "#print(int(10+0j))\n",
    "print(int(True))\n",
    "#print(int(\"10.5\")) not allowod\n",
    "\n",
    "print(\"-------float-------\")\n",
    "print(float(\"10\"))\n",
    "print(float(\"10.40\"))\n",
    "\n",
    "print(\"------complex-------\")\n",
    "print(complex(10,2))\n",
    "print(complex(0,0))\n",
    "print(complex(1,0))\n",
    "print(complex(0,3))\n",
    "print(complex(1))\n",
    "print(complex(0))\n",
    "print(bool(0+0j))\n",
    "\n",
    "print(\"--------variable-------\")\n",
    "a=\"I\"\n",
    "print(\"Python\"+a) # +sign only for String concat otherwise Python understand arithmetic "
   ]
  },
  {
   "cell_type": "code",
   "execution_count": null,
   "id": "9db69083",
   "metadata": {},
   "outputs": [],
   "source": []
  }
 ],
 "metadata": {
  "kernelspec": {
   "display_name": "Python 3 (ipykernel)",
   "language": "python",
   "name": "python3"
  },
  "language_info": {
   "codemirror_mode": {
    "name": "ipython",
    "version": 3
   },
   "file_extension": ".py",
   "mimetype": "text/x-python",
   "name": "python",
   "nbconvert_exporter": "python",
   "pygments_lexer": "ipython3",
   "version": "3.14.0"
  }
 },
 "nbformat": 4,
 "nbformat_minor": 5
}
