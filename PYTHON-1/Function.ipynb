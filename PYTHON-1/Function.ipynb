{
 "cells": [
  {
   "cell_type": "code",
   "execution_count": 14,
   "id": "1c711a8c-f351-4d2c-89be-025dcbcd4505",
   "metadata": {},
   "outputs": [
    {
     "name": "stdout",
     "output_type": "stream",
     "text": [
      "Hello Python Function\n",
      "hello abhi Good morning\n"
     ]
    },
    {
     "data": {
      "text/plain": [
       "'abhi'"
      ]
     },
     "execution_count": 14,
     "metadata": {},
     "output_type": "execute_result"
    }
   ],
   "source": [
    "#Function\n",
    "def demo():\n",
    "    print(\"Hello Python Function\")\n",
    "demo()    \n",
    "\n",
    "def demo1(name):\n",
    "    print(\"hello \"+name+\" Good morning\")\n",
    "demo1(\"abhi\")   \n",
    "\"abhi\""
   ]
  },
  {
   "cell_type": "code",
   "execution_count": 15,
   "id": "f413d61f-6445-4ad8-a411-10cbfa31cf2e",
   "metadata": {},
   "outputs": [
    {
     "name": "stdout",
     "output_type": "stream",
     "text": [
      "15\n",
      "20\n"
     ]
    }
   ],
   "source": [
    "#Return value\n",
    "def ren(y):\n",
    "    return 5*y\n",
    "print(ren(3))\n",
    "a=ren(4)\n",
    "print(a)"
   ]
  },
  {
   "cell_type": "code",
   "execution_count": 16,
   "id": "47650ce9-f421-4e93-9035-039e6fb4989d",
   "metadata": {},
   "outputs": [
    {
     "data": {
      "text/plain": [
       "'abhi'"
      ]
     },
     "execution_count": 16,
     "metadata": {},
     "output_type": "execute_result"
    }
   ],
   "source": [
    "2323\n",
    "\"abhi\""
   ]
  },
  {
   "cell_type": "code",
   "execution_count": 17,
   "id": "fc997cf2-3c8a-4e96-b8db-ad0f041a4a2a",
   "metadata": {},
   "outputs": [
    {
     "name": "stdout",
     "output_type": "stream",
     "text": [
      "AA\n"
     ]
    }
   ],
   "source": [
    "#define categories of user define function\n",
    "def withPara(s):\n",
    "    print(s*2)\n",
    "withPara(\"A\")"
   ]
  },
  {
   "cell_type": "code",
   "execution_count": 18,
   "id": "5ea53d71-be7f-4081-9131-478db6389160",
   "metadata": {},
   "outputs": [
    {
     "name": "stdout",
     "output_type": "stream",
     "text": [
      "30 -10 0.5\n",
      "(30, -10, 0.5)\n",
      "30\n",
      "-10\n",
      "0.5\n"
     ]
    }
   ],
   "source": [
    "#returning multiple value\n",
    "def cal(a,b):\n",
    "    Sum=a+b\n",
    "    sub=a-b\n",
    "    div=a/b\n",
    "    return Sum,sub,div\n",
    "a,b,c=cal(10,20)\n",
    "print(a,b,c)\n",
    "t=cal(10,20)\n",
    "print(t)\n",
    "for i in t:\n",
    "    print(i)"
   ]
  },
  {
   "cell_type": "code",
   "execution_count": null,
   "id": "a48e6c6b",
   "metadata": {},
   "outputs": [],
   "source": []
  },
  {
   "cell_type": "code",
   "execution_count": 19,
   "id": "4d7155bb-f9f0-4ee7-8795-6f1353dc4103",
   "metadata": {},
   "outputs": [
    {
     "name": "stdout",
     "output_type": "stream",
     "text": [
      "23\n",
      "Hello I am DocString\n"
     ]
    }
   ],
   "source": [
    "#DocString\n",
    "def doc():\n",
    "    \"\"\"Hello I am DocString\"\"\" #only for Top of function\n",
    "    return 23    \n",
    "print(doc()) \n",
    "print(doc.__doc__)"
   ]
  },
  {
   "cell_type": "code",
   "execution_count": 20,
   "id": "4921248a-7ff5-4ac7-80e7-3cc3a661b9e5",
   "metadata": {},
   "outputs": [
    {
     "name": "stdout",
     "output_type": "stream",
     "text": [
      "10 10\n",
      "10 50\n",
      "------keyword-------\n",
      "num1= 30  num2= 40\n",
      "\n",
      "-----variable length argument------\n",
      "(10, 20, 30.0, False, 'Abc')\n",
      "\n",
      "-----mix------\n",
      "(10, (20, 30, 40))\n",
      "10\n",
      "(20, 30, 40)\n",
      "20 30 40\n",
      "\n",
      "1\n",
      "2\n",
      "3\n",
      "4\n",
      "5\n"
     ]
    }
   ],
   "source": [
    "#Parameter and argument\n",
    "#1.default\n",
    "def default(a,b=10):\n",
    "    print(a,b)\n",
    "default(10)\n",
    "default(10,50)\n",
    "\n",
    "#2.Keyword\n",
    "print(\"------keyword-------\")\n",
    "def keyword(num1,num2):\n",
    "    print(\"num1=\",num1,\" num2=\",num2)\n",
    "keyword(num1=30,num2=40) \n",
    "\n",
    "#variable length argument\n",
    "print()\n",
    "print(\"-----variable length argument------\")\n",
    "def length(*a):\n",
    "    print(a)\n",
    "length(10,20,30.0,False,\"Abc\")\n",
    "\n",
    "#mixing more than argument\n",
    "print()\n",
    "print(\"-----mix------\")\n",
    "def mix(n1,*n):\n",
    "    return n1,n\n",
    "x=mix(10,20,30,40)\n",
    "print(x)\n",
    "a,b=mix(10,20,30,40)\n",
    "print(a)\n",
    "print(b)\n",
    "e,f,g=b\n",
    "print(e,f,g)\n",
    "#EX.\n",
    "print()\n",
    "def mix(*n):\n",
    "    for i in n:\n",
    "        print(i)\n",
    "mix(1,2,3,4,5)        "
   ]
  },
  {
   "cell_type": "code",
   "execution_count": null,
   "id": "97768cea-a899-49d6-9b66-46f588e15481",
   "metadata": {},
   "outputs": [
    {
     "name": "stdout",
     "output_type": "stream",
     "text": [
      "Local variable  30\n",
      "Global variable  0\n",
      "7\n",
      "120\n"
     ]
    }
   ],
   "source": [
    "#global and local variable\n",
    "total=0\n",
    "def sum(a1,a2):\n",
    "    total=a1+a2\n",
    "    return total\n",
    "print(\"Local variable \",sum(10,20))\n",
    "print(\"Global variable \",total)\n",
    "\n",
    "#Find max of three\n",
    "def max_of_two(x,y):\n",
    "    if x>y:\n",
    "        return x\n",
    "    return y\n",
    "def max_of_three(x,y,z):\n",
    "    return max_of_two(x,max_of_two(y,z))\n",
    "print(max_of_three(1,7,3))\n",
    "\n",
    "#Find factorial\n",
    "def factorial(n):\n",
    "    if n==0:\n",
    "        return 1\n",
    "    else:\n",
    "        return n*factorial(n-1)\n",
    "    \n",
    "print(factorial(int(input(\"Enter number\"))))\n",
    "\n"
   ]
  },
  {
   "cell_type": "code",
   "execution_count": 33,
   "id": "7365542b",
   "metadata": {},
   "outputs": [
    {
     "name": "stdout",
     "output_type": "stream",
     "text": [
      "True\n"
     ]
    }
   ],
   "source": [
    "#perfect number\n",
    "def perfect_number(n):\n",
    "    sum=0\n",
    "    for i in range(1,n):\n",
    "        if n%i==0:\n",
    "            sum+=i\n",
    "    return sum==n\n",
    "print(perfect_number(int(input(\"Enter number\"))))        "
   ]
  },
  {
   "cell_type": "code",
   "execution_count": 35,
   "id": "c44b9103",
   "metadata": {},
   "outputs": [
    {
     "name": "stdout",
     "output_type": "stream",
     "text": [
      "True\n"
     ]
    }
   ],
   "source": [
    "#armstrong number\n",
    "def armstrong(n):\n",
    "    sum=0\n",
    "    temp=n\n",
    "    while temp>0:\n",
    "        r=temp%10\n",
    "        sum+=r**3\n",
    "        temp//=10\n",
    "    return sum==n\n",
    "print(armstrong(153))    "
   ]
  },
  {
   "cell_type": "code",
   "execution_count": 42,
   "id": "bbd3796a",
   "metadata": {},
   "outputs": [
    {
     "name": "stdout",
     "output_type": "stream",
     "text": [
      "95.0\n"
     ]
    }
   ],
   "source": [
    "def c(f):\n",
    "    C=(f-32)*5/9\n",
    "    return C\n",
    "print(c(203))"
   ]
  },
  {
   "cell_type": "code",
   "execution_count": 45,
   "id": "e447f26d",
   "metadata": {},
   "outputs": [
    {
     "name": "stdout",
     "output_type": "stream",
     "text": [
      "0\n",
      "1\n",
      "1\n",
      "2\n",
      "3\n",
      "5\n",
      "8\n",
      "13\n",
      "21\n",
      "34\n"
     ]
    }
   ],
   "source": [
    "def fibbonaci(n):\n",
    "    a=0\n",
    "    b=1\n",
    "    if n==1:\n",
    "        print(a)\n",
    "    else:\n",
    "        print(a)\n",
    "        print(b)\n",
    "        for i in range(2,n):\n",
    "            c=a+b   \n",
    "            a=b\n",
    "            b=c\n",
    "            print(c)\n",
    "fibbonaci(10)            \n",
    "            "
   ]
  },
  {
   "cell_type": "code",
   "execution_count": 6,
   "id": "72fc3567",
   "metadata": {},
   "outputs": [
    {
     "name": "stdout",
     "output_type": "stream",
     "text": [
      "Enter numbeer:- 1\n",
      "Enter start number: -1\n",
      "Enter end of number: 2\n"
     ]
    },
    {
     "name": "stdout",
     "output_type": "stream",
     "text": [
      "yes\n",
      "None\n"
     ]
    }
   ],
   "source": [
    "num=int(input(\"Enter numbeer:-\"))\n",
    "start=int(input(\"Enter start number:\"))\n",
    "end=int(input(\"Enter end of number:\"))\n",
    "def r():\n",
    "    if(num>start) and (num<end):\n",
    "        print(\"yes\")\n",
    "    else:\n",
    "        print(\"No\")\n",
    "print(r())"
   ]
  },
  {
   "cell_type": "code",
   "execution_count": 2,
   "id": "73527ab4-a052-44f8-b49b-6ff4237e87a5",
   "metadata": {},
   "outputs": [
    {
     "name": "stdout",
     "output_type": "stream",
     "text": [
      "hello\n",
      "None\n",
      "None\n"
     ]
    }
   ],
   "source": [
    "print(print(print(\"hello\")))"
   ]
  },
  {
   "cell_type": "code",
   "execution_count": null,
   "id": "77abb6fc-226d-4ee0-be8d-f5fd753177a4",
   "metadata": {},
   "outputs": [],
   "source": []
  }
 ],
 "metadata": {
  "kernelspec": {
   "display_name": "Python 3 (ipykernel)",
   "language": "python",
   "name": "python3"
  },
  "language_info": {
   "codemirror_mode": {
    "name": "ipython",
    "version": 3
   },
   "file_extension": ".py",
   "mimetype": "text/x-python",
   "name": "python",
   "nbconvert_exporter": "python",
   "pygments_lexer": "ipython3",
   "version": "3.14.0"
  }
 },
 "nbformat": 4,
 "nbformat_minor": 5
}
