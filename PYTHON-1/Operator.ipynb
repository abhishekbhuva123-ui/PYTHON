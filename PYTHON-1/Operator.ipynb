{
 "cells": [
  {
   "cell_type": "code",
   "execution_count": 1,
   "id": "c96cc530",
   "metadata": {},
   "outputs": [
    {
     "name": "stdout",
     "output_type": "stream",
     "text": [
      "-------Arithmetic---------\n",
      "3.3333333333333335\n",
      "3\n",
      "1\n",
      "1000\n",
      "AbhiAbhi\n",
      "--------Relational----------\n",
      "False\n",
      "True\n",
      "True\n",
      "False\n",
      "1\n",
      "-------Logicle--------\n",
      "20\n",
      "0\n",
      "0\n",
      "True\n",
      "False\n",
      "--------Ternary or Conditional--------\n",
      "30\n",
      "-------Membership--------\n",
      "True\n",
      "True\n",
      "False\n",
      "True\n",
      "True\n",
      "True\n",
      "False\n"
     ]
    }
   ],
   "source": [
    "#Operator\n",
    "\n",
    "#1.Arithmetic\n",
    "print(\"-------Arithmetic---------\")\n",
    "print(10/3)\n",
    "print(10//3)\n",
    "print(10%3)\n",
    "print(10**3)\n",
    "print(\"Abhi\"*2)\n",
    "#2.5*“Arman\" # TypeError: can't multiply sequence by non-int of type 'float’\n",
    "\n",
    "# Relational\n",
    "print(\"--------Relational----------\")\n",
    "#We can apply relational operators for str and bool types also.\n",
    "a=\"abhi\"\n",
    "b=\"abhi\"\n",
    "print(a>b)\n",
    "print(a>=b)\n",
    "print(10>True)\n",
    "print(1.0>True)\n",
    "print(int(True))\n",
    "\n",
    "#Logicle\n",
    "print(\"-------Logicle--------\")\n",
    "print(10 and 20)\n",
    "print(10 and 0)\n",
    "a=10 and 0\n",
    "print(a)\n",
    "print(not 0 or 20)\n",
    "print(not(0 or 20))\n",
    "\n",
    "#Ternary or Conditional\n",
    "print(\"--------Ternary or Conditional--------\")\n",
    "a=10\n",
    "a+=20\n",
    "print(a)\n",
    "\n",
    "print(\"-------Membership--------\")\n",
    "print('h' in \"hello\")\n",
    "print('10' in '1010')# only contain string\n",
    "print('h' not in \"hello\")\n",
    "list=[\"apple\",24,False]\n",
    "print('apple' in list)\n",
    "print(24 in list)\n",
    "dic={10:\"apple\",20:\"banana\"}\n",
    "print(10 in dic)\n",
    "print(\"apple\" in dic)#only for key allow "
   ]
  },
  {
   "cell_type": "code",
   "execution_count": 2,
   "id": "55ea4b2f",
   "metadata": {},
   "outputs": [
    {
     "name": "stdout",
     "output_type": "stream",
     "text": [
      "We are the so-called \"Vikings\" from the north.\n",
      "it's alright\n",
      "hello\n",
      "world\n",
      "Hello\tPython\n",
      "HellPython\n"
     ]
    }
   ],
   "source": [
    "#Escape Characters\n",
    "txt = \"We are the so-called \\\"Vikings\\\" from the north.\"\n",
    "print(txt)\n",
    "txt='it\\'s alright'\n",
    "print(txt)\n",
    "txt=\"hello\\nworld\"\n",
    "print(txt)\n",
    "txt=\"Hello\\tPython\"\n",
    "print(txt)\n",
    "txt=\"Hello\\bPython\"\n",
    "print(txt)"
   ]
  },
  {
   "cell_type": "code",
   "execution_count": null,
   "id": "93d78b52",
   "metadata": {},
   "outputs": [],
   "source": []
  }
 ],
 "metadata": {
  "kernelspec": {
   "display_name": "venv",
   "language": "python",
   "name": "python3"
  },
  "language_info": {
   "codemirror_mode": {
    "name": "ipython",
    "version": 3
   },
   "file_extension": ".py",
   "mimetype": "text/x-python",
   "name": "python",
   "nbconvert_exporter": "python",
   "pygments_lexer": "ipython3",
   "version": "3.14.0"
  }
 },
 "nbformat": 4,
 "nbformat_minor": 5
}
