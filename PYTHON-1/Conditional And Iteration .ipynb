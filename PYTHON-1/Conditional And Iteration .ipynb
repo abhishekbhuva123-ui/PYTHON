{
 "cells": [
  {
   "cell_type": "code",
   "execution_count": null,
   "id": "eb44ad66",
   "metadata": {},
   "outputs": [],
   "source": [
    "#iterator in Python\n",
    "count=0\n",
    "while count<3:\n",
    "    count+=1\n",
    "    print(\"Hello Python\")    "
   ]
  },
  {
   "cell_type": "code",
   "execution_count": null,
   "id": "fd50be44-bd67-482f-aea5-ee442e10dd71",
   "metadata": {},
   "outputs": [],
   "source": [
    "#using else statment with while loop\n",
    "count=0\n",
    "while count<3:\n",
    "    count+=1\n",
    "    print(\"Hello Python\")\n",
    "else:\n",
    "    print(\"in else statment\")    "
   ]
  },
  {
   "cell_type": "code",
   "execution_count": null,
   "id": "0bfa47a2",
   "metadata": {
    "editable": true,
    "slideshow": {
     "slide_type": ""
    },
    "tags": []
   },
   "outputs": [],
   "source": [
    "#for loop\n",
    "for i in range(3):\n",
    "    print(i)\n",
    "print()\n",
    "for i in range(1,5):\n",
    "    for j in range(1,i+1):\n",
    "        print(j,end=\" \")\n",
    "    print()    "
   ]
  },
  {
   "cell_type": "code",
   "execution_count": null,
   "id": "0e5ebb69-a857-402d-ace8-0c45229a019e",
   "metadata": {
    "editable": true,
    "slideshow": {
     "slide_type": ""
    },
    "tags": []
   },
   "outputs": [],
   "source": [
    "#Loop control statement\n",
    "#continue\n",
    "for i in 'pythonpytohnpython':\n",
    "    if i==\"P\" or i==\"y\":\n",
    "        continue\n",
    "    print(\"current \",i)\n",
    "print()\n",
    "\n",
    "#Break\n",
    "print(\"using brack\")\n",
    "for i in range(10):\n",
    "    if i==7:\n",
    "        break\n",
    "    print(i)\n",
    "print()\n",
    "\n",
    "for i in 'teekforteek':\n",
    "    if i=='e':\n",
    "        break\n",
    "print(\"current i is \",i)        "
   ]
  },
  {
   "cell_type": "code",
   "execution_count": null,
   "id": "d7928b04-ce42-4174-9eea-127d05e6e480",
   "metadata": {
    "editable": true,
    "slideshow": {
     "slide_type": ""
    },
    "tags": []
   },
   "outputs": [],
   "source": [
    "#pass keyword\n",
    "for i in range(10):\n",
    "    if i%2==0:\n",
    "       pass \n",
    "    else:\n",
    "        print(i)\n",
    "print(\"current \",i) \n",
    "\n",
    "for i in 'teekforteek':\n",
    "    pass\n",
    "print(i)\n",
    "    "
   ]
  }
 ],
 "metadata": {
  "kernelspec": {
   "display_name": "Python 3",
   "language": "python",
   "name": "python3"
  },
  "language_info": {
   "codemirror_mode": {
    "name": "ipython",
    "version": 3
   },
   "file_extension": ".py",
   "mimetype": "text/x-python",
   "name": "python",
   "nbconvert_exporter": "python",
   "pygments_lexer": "ipython3",
   "version": "3.14.0"
  }
 },
 "nbformat": 4,
 "nbformat_minor": 5
}
