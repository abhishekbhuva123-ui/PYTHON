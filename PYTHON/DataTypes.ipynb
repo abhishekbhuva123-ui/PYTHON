{
 "cells": [
  {
   "cell_type": "code",
   "execution_count": null,
   "id": "617eef76",
   "metadata": {},
   "outputs": [
    {
     "name": "stdout",
     "output_type": "stream",
     "text": [
      "Krishna\n",
      "Hello\n",
      "      Rama\n",
      "Hello\n",
      "      Sita\n",
      "<class 'str'>\n",
      "<class 'str'>\n",
      "hello\n",
      "      world\n"
     ]
    }
   ],
   "source": [
    "#Data types in Python\n",
    "#Text Type: str\n",
    "s1='Hari'\n",
    "s1=\"Krishna\"\n",
    "print(s1)\n",
    "\n",
    "'''muliline comment or multiline string literal'''\n",
    "s2='''Hello\n",
    "      Rama'''\n",
    "print(s2)\n",
    "\n",
    "\"\"\"muliline comment or multiline string literal\"\"\"\n",
    "s3=\"\"\"Hello\n",
    "      Sita\"\"\"\n",
    "print(s3)\n",
    "print(type(s1))\n",
    "print(type(s2))\n",
    "print(\"\"\"hello\n",
    "      world\"\"\")"
   ]
  }
 ],
 "metadata": {
  "kernelspec": {
   "display_name": "PYvenv",
   "language": "python",
   "name": "python3"
  },
  "language_info": {
   "codemirror_mode": {
    "name": "ipython",
    "version": 3
   },
   "file_extension": ".py",
   "mimetype": "text/x-python",
   "name": "python",
   "nbconvert_exporter": "python",
   "pygments_lexer": "ipython3",
   "version": "3.13.7"
  }
 },
 "nbformat": 4,
 "nbformat_minor": 5
}
